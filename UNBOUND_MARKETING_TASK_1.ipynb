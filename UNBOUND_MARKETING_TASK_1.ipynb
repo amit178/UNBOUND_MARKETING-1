{
 "cells": [
  {
   "cell_type": "code",
   "execution_count": 2,
   "id": "c65e5c76",
   "metadata": {},
   "outputs": [],
   "source": [
    "from nltk import tokenize\n",
    "from operator import itemgetter\n",
    "import math"
   ]
  },
  {
   "cell_type": "code",
   "execution_count": 3,
   "id": "65a475dc",
   "metadata": {},
   "outputs": [],
   "source": [
    "doc= 'Today’s network challenge is supporting a distributed workforce and digital processes with a shrinking budget. The imperative is to ensure security and continuity of operations at the highest possible level. There’s a simple solution that provides visibility into networked traffic: network TAPs. Read the whitepaper to gain a full understanding of why TAPs are the most effective way to get the visibility you need for improved security and better agility.'\n"
   ]
  },
  {
   "cell_type": "code",
   "execution_count": 4,
   "id": "092872fa",
   "metadata": {},
   "outputs": [],
   "source": [
    "import nltk\n",
    "from nltk.corpus import stopwords\n",
    "from nltk.tokenize import word_tokenize\n",
    "stop_words=set(stopwords.words('english'))\n"
   ]
  },
  {
   "cell_type": "code",
   "execution_count": 5,
   "id": "3fc0a86e",
   "metadata": {},
   "outputs": [
    {
     "name": "stdout",
     "output_type": "stream",
     "text": [
      "70\n"
     ]
    }
   ],
   "source": [
    "total_words=doc.split()\n",
    "total_word_length=len(total_words)\n",
    "print(total_word_length)"
   ]
  },
  {
   "cell_type": "code",
   "execution_count": 6,
   "id": "22bc9021",
   "metadata": {},
   "outputs": [
    {
     "name": "stdout",
     "output_type": "stream",
     "text": [
      "4\n"
     ]
    }
   ],
   "source": [
    "total_sentences=tokenize.sent_tokenize(doc)\n",
    "total_sent_len=len(total_sentences)\n",
    "print(total_sent_len)\n"
   ]
  },
  {
   "cell_type": "code",
   "execution_count": 7,
   "id": "472edc4d",
   "metadata": {},
   "outputs": [
    {
     "name": "stdout",
     "output_type": "stream",
     "text": [
      "{'Today’s': 1, 'network': 2, 'challenge': 1, 'supporting': 1, 'distributed': 1, 'workforce': 1, 'digital': 1, 'processes': 1, 'shrinking': 1, 'budget': 1, 'The': 1, 'imperative': 1, 'ensure': 1, 'security': 2, 'continuity': 1, 'operations': 1, 'highest': 1, 'possible': 1, 'level': 1, 'There’s': 1, 'simple': 1, 'solution': 1, 'provides': 1, 'visibility': 2, 'networked': 1, 'traffic:': 1, 'TAPs': 2, 'Read': 1, 'whitepaper': 1, 'gain': 1, 'full': 1, 'understanding': 1, 'effective': 1, 'way': 1, 'get': 1, 'need': 1, 'improved': 1, 'better': 1, 'agility': 1}\n"
     ]
    }
   ],
   "source": [
    "tf_score = {}\n",
    "for each_word in total_words:\n",
    "    each_word = each_word.replace('.','')\n",
    "    if each_word not in stop_words:\n",
    "        if each_word in tf_score:\n",
    "            tf_score[each_word] += 1\n",
    "        else:\n",
    "                tf_score[each_word] = 1\n",
    "print(tf_score)              "
   ]
  },
  {
   "cell_type": "code",
   "execution_count": 8,
   "id": "2ffa03aa",
   "metadata": {},
   "outputs": [
    {
     "name": "stdout",
     "output_type": "stream",
     "text": [
      "{'Today’s': 0.014285714285714285, 'network': 0.02857142857142857, 'challenge': 0.014285714285714285, 'supporting': 0.014285714285714285, 'distributed': 0.014285714285714285, 'workforce': 0.014285714285714285, 'digital': 0.014285714285714285, 'processes': 0.014285714285714285, 'shrinking': 0.014285714285714285, 'budget': 0.014285714285714285, 'The': 0.014285714285714285, 'imperative': 0.014285714285714285, 'ensure': 0.014285714285714285, 'security': 0.02857142857142857, 'continuity': 0.014285714285714285, 'operations': 0.014285714285714285, 'highest': 0.014285714285714285, 'possible': 0.014285714285714285, 'level': 0.014285714285714285, 'There’s': 0.014285714285714285, 'simple': 0.014285714285714285, 'solution': 0.014285714285714285, 'provides': 0.014285714285714285, 'visibility': 0.02857142857142857, 'networked': 0.014285714285714285, 'traffic:': 0.014285714285714285, 'TAPs': 0.02857142857142857, 'Read': 0.014285714285714285, 'whitepaper': 0.014285714285714285, 'gain': 0.014285714285714285, 'full': 0.014285714285714285, 'understanding': 0.014285714285714285, 'effective': 0.014285714285714285, 'way': 0.014285714285714285, 'get': 0.014285714285714285, 'need': 0.014285714285714285, 'improved': 0.014285714285714285, 'better': 0.014285714285714285, 'agility': 0.014285714285714285}\n"
     ]
    }
   ],
   "source": [
    "tf_score.update((x,y/int(total_word_length)) for x , y in tf_score.items())\n",
    "print(tf_score)"
   ]
  },
  {
   "cell_type": "code",
   "execution_count": 9,
   "id": "208bb406",
   "metadata": {},
   "outputs": [],
   "source": [
    "def check_sent(word , sentences):\n",
    "    final = [all([w in x for w in word]) for x in sentences]\n",
    "    sent_len = [sentences[i] for i in range (0 , len(final)) if final[i]]\n",
    "    return int(len(sent_len))"
   ]
  },
  {
   "cell_type": "code",
   "execution_count": 10,
   "id": "c4380c7c",
   "metadata": {},
   "outputs": [],
   "source": [
    "idf_score = {}\n",
    "for each_word in total_words:\n",
    "    each_word = each_word.replace('.','')\n",
    "    if each_word not in stop_words:\n",
    "        if each_word in tf_score:\n",
    "            idf_score[each_word] = check_sent(each_word, total_sentences)\n",
    "        else:\n",
    "                idf_score[each_word] = 1\n",
    "\n",
    "     "
   ]
  },
  {
   "cell_type": "code",
   "execution_count": 11,
   "id": "0c3dca32",
   "metadata": {},
   "outputs": [
    {
     "name": "stdout",
     "output_type": "stream",
     "text": [
      "{'Today’s': 0.6931471805599453, 'network': 0.6931471805599453, 'challenge': 0.28768207245178085, 'supporting': 0.28768207245178085, 'distributed': 0.0, 'workforce': 0.6931471805599453, 'digital': 0.28768207245178085, 'processes': 0.0, 'shrinking': 1.3862943611198906, 'budget': 0.28768207245178085, 'The': 0.0, 'imperative': 0.28768207245178085, 'ensure': 0.0, 'security': 0.0, 'continuity': 0.0, 'operations': 0.0, 'highest': 0.28768207245178085, 'possible': 0.0, 'level': 0.28768207245178085, 'There’s': 0.6931471805599453, 'simple': 0.28768207245178085, 'solution': 0.0, 'provides': 0.28768207245178085, 'visibility': 0.28768207245178085, 'networked': 0.6931471805599453, 'traffic:': 1.3862943611198906, 'TAPs': 0.6931471805599453, 'Read': 1.3862943611198906, 'whitepaper': 0.28768207245178085, 'gain': 0.28768207245178085, 'full': 0.0, 'understanding': 0.28768207245178085, 'effective': 0.28768207245178085, 'way': 0.28768207245178085, 'get': 0.28768207245178085, 'need': 0.0, 'improved': 0.28768207245178085, 'better': 0.0, 'agility': 0.28768207245178085}\n"
     ]
    }
   ],
   "source": [
    "idf_score.update((x, math.log(int(total_sent_len)/y)) for x , y in idf_score.items())\n",
    "print(idf_score)"
   ]
  },
  {
   "cell_type": "code",
   "execution_count": 12,
   "id": "d876484a",
   "metadata": {},
   "outputs": [
    {
     "name": "stdout",
     "output_type": "stream",
     "text": [
      "{'Today’s': 0.00990210257942779, 'network': 0.01980420515885558, 'challenge': 0.0041097438921682975, 'supporting': 0.0041097438921682975, 'distributed': 0.0, 'workforce': 0.00990210257942779, 'digital': 0.0041097438921682975, 'processes': 0.0, 'shrinking': 0.01980420515885558, 'budget': 0.0041097438921682975, 'The': 0.0, 'imperative': 0.0041097438921682975, 'ensure': 0.0, 'security': 0.0, 'continuity': 0.0, 'operations': 0.0, 'highest': 0.0041097438921682975, 'possible': 0.0, 'level': 0.0041097438921682975, 'There’s': 0.00990210257942779, 'simple': 0.0041097438921682975, 'solution': 0.0, 'provides': 0.0041097438921682975, 'visibility': 0.008219487784336595, 'networked': 0.00990210257942779, 'traffic:': 0.01980420515885558, 'TAPs': 0.01980420515885558, 'Read': 0.01980420515885558, 'whitepaper': 0.0041097438921682975, 'gain': 0.0041097438921682975, 'full': 0.0, 'understanding': 0.0041097438921682975, 'effective': 0.0041097438921682975, 'way': 0.0041097438921682975, 'get': 0.0041097438921682975, 'need': 0.0, 'improved': 0.0041097438921682975, 'better': 0.0, 'agility': 0.0041097438921682975}\n"
     ]
    }
   ],
   "source": [
    "tf_idf_score = { key: tf_score[key] * idf_score.get(key , 0) for key in tf_score.keys()}\n",
    "print(tf_idf_score)"
   ]
  },
  {
   "cell_type": "code",
   "execution_count": 13,
   "id": "be49b467",
   "metadata": {},
   "outputs": [],
   "source": [
    "def get_top_n(dict_elem,n):\n",
    "    result= dict(sorted(dict_elem.items(),key=itemgetter(1),reverse=True)[:n])\n",
    "    return result"
   ]
  },
  {
   "cell_type": "code",
   "execution_count": 14,
   "id": "e43b3395",
   "metadata": {},
   "outputs": [
    {
     "name": "stdout",
     "output_type": "stream",
     "text": [
      "{'network': 0.01980420515885558, 'shrinking': 0.01980420515885558, 'traffic:': 0.01980420515885558, 'TAPs': 0.01980420515885558, 'Read': 0.01980420515885558}\n"
     ]
    }
   ],
   "source": [
    "print(get_top_n(tf_idf_score,5))"
   ]
  }
 ],
 "metadata": {
  "kernelspec": {
   "display_name": "Python 3",
   "language": "python",
   "name": "python3"
  },
  "language_info": {
   "codemirror_mode": {
    "name": "ipython",
    "version": 3
   },
   "file_extension": ".py",
   "mimetype": "text/x-python",
   "name": "python",
   "nbconvert_exporter": "python",
   "pygments_lexer": "ipython3",
   "version": "3.8.8"
  }
 },
 "nbformat": 4,
 "nbformat_minor": 5
}
